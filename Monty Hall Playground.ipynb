{
 "cells": [
  {
   "cell_type": "markdown",
   "id": "f64be10c",
   "metadata": {},
   "source": [
    "# The Monty Hall Problem\n",
    "\n",
    "The [Monty Hall Problem](https://en.wikipedia.org/wiki/Monty_Hall_problem) is a notorious for being unintuitive. The steup is simple, but it's trickiness lies in the failure of our intuition of probabilistic situations. Here I present an accessible explanation of the problem, the solution, various ways to tackle thinking about it, and finally a simulation which proves the solution.\n",
    "\n",
    "### The Problem\n",
    "You are a contestant on a game show. A man named [Monty Hall](https://en.wikipedia.org/wiki/Monty_Hall_problem) is the host of this game show, and you are playing a very simple game.\n",
    "\n",
    "There are 3 doors: behind two doors is a goat, and behind one door is an expensive new car (Let's assume for this problem that you are not interested in the goats, and would really like that car). The object is to guess which door hides the car - if you guess correctly, the car is yours.\n",
    "\n",
    "You guess door 1. Monty, knowing what lies behind each door, decides he will help you out. He promptly opens door 3, revealing a goat.\n",
    "\n",
    "Then, Monty turns to you and poses a question: \"Would you like to switch doors?\"\n",
    "\n",
    "Given this set up, the Monty Hall problem is this: Is it in your benefit to switch to door 2, or should you stay with door 1?\n",
    "\n",
    "![Monty Hall Goat Door](https://upload.wikimedia.org/wikipedia/commons/3/3f/Monty_open_door.svg)\n"
   ]
  },
  {
   "cell_type": "markdown",
   "id": "4b71ac1e",
   "metadata": {},
   "source": [
    "### The solution\n",
    "The answer, backed by mathematics, is that you *should* switch your choice to door number 2. It is a fact that your chance of winning if you stay with door number 1 is 1/3. Your chance of winning if you switch is 2/3.\n",
    "\n",
    "How can this be? Each door is supposed to represent a 1/3 chance of success!\n",
    "\n",
    "Read on to discover the truth."
   ]
  },
  {
   "cell_type": "markdown",
   "id": "182d0e79",
   "metadata": {},
   "source": [
    "### The explanation\n",
    "\n",
    "At the start of the game there is a 2/3 chance that the car is behind a door *not chosen* by the player. This fact does not change when Monty reveals the goat behind door 3. Let's say that more specifically:\n",
    "There is a 2/3 chance that the car is behind doors 2 or 3. When Monty eliminates door 3 from contention, there is *still* a 2/3 chance that the car is behind door 2 or 3.\n",
    "\n",
    "How has the probability of success increased for door 2? **Monty has provided information about the two doors you did not choose, and gives extra value to door 2 because he did not eliminate it.**\n",
    "\n",
    "**An Alternate Scenario:** Let's consider this alternate scenario: At the start of the game, the player is given only two choices. They can have door 1, or door 2 AND door 3. Of course they should choose the latter, as it carries a 2/3 chance of success. If Monty were to do the same thing, and show the player what's behind door 3, we'd be in the same scenario as before. The only difference is that we *began* with a 2/3 probability - Monty gave no extra information to us because we already knew that one of our chosen doors contained a goat!"
   ]
  },
  {
   "cell_type": "markdown",
   "id": "c6f26697",
   "metadata": {},
   "source": [
    "### A hidden rule\n",
    "\n",
    "One more thing to consider: this solution assumes that Monty *always* shows you a goat, and won't reveal the door with the car behind it. If he did, the game would be over! So it's important to factor in this \"hidden rule\" into our thinking."
   ]
  },
  {
   "cell_type": "markdown",
   "id": "33dbc1ce",
   "metadata": {},
   "source": [
    "### Still Not Convinced?\n",
    "The idea in this problem is that added information gives us better odds when making certain choices. This can be truly hard to understand... When this problem first came to light, many mathematicians, even some high-level mathematicians, were not convinced that this solution was correct. Time has shown, however, that this is the way things are. \n",
    "\n",
    "If you're interested in seeing a more rigorous proof, you can check out [this article](https://brilliant.org/wiki/monty-hall-problem/) which proves the outcomes using Bayes' Theorem. It walks you through the proof and you don't need any crazy math skills to understand it!\n",
    "\n",
    "The following are two simulations: one which allows you to play the Monty Hall game, and one which runs the Monty Hall problem as many times as you'd like.\n",
    "The first simulation is mostly for fun, while the second simulation is meant to give more concrete results, and to show that in practice the given solution is correct."
   ]
  },
  {
   "cell_type": "markdown",
   "id": "d31b4e17",
   "metadata": {},
   "source": [
    "## Monty Hall Game\n",
    "To play, simply execute the code and follow the instructions given at the bottom of the code.\n",
    "* To execute code in a Jupyter notebook, click on the code and press Shift+Enter\n"
   ]
  },
  {
   "cell_type": "code",
   "execution_count": 69,
   "id": "f3220a45",
   "metadata": {},
   "outputs": [
    {
     "name": "stdout",
     "output_type": "stream",
     "text": [
      "Let's play the Monty Hall game! Please pick a door: 1, 2 or 3. 2\n",
      "So you chose door number 2.\n",
      "I'm going to show you what's behind one of the doors you didn't pick...\n",
      "Door number 1 has a goat behind it!\n",
      "Would you like to switch doors? Y or N?Y\n",
      "YOU LOSE!\n"
     ]
    }
   ],
   "source": [
    "#Play the Monty Hall Game!\n",
    "\n",
    "import random\n",
    "\n",
    "def monty_hall():\n",
    "    #doors holds all 3 doors. goat_doors holds the two doors with goats, which Monty will pick from.\n",
    "    doors = [1,2,3]\n",
    "    goat_doors = [1,2,3]\n",
    "\n",
    "    #choose a door to hide the car, and remove that number from goat_doors\n",
    "    car = random.choice(doors)\n",
    "    goat_doors.remove(car)\n",
    "\n",
    "\n",
    "    #player picks a door\n",
    "    initial_door = input(\"Let's play the Monty Hall game! Please pick a door: 1, 2 or 3. \")\n",
    "    print(\"So you chose door number \" + str(initial_door) + \".\")\n",
    "\n",
    "    #remove chosen door from goat_doors (if not already removed), so that Monty won't reveal what's behind the user's door.\n",
    "    try:\n",
    "        goat_doors.remove(int(initial_door))\n",
    "    except: \n",
    "        pass\n",
    "\n",
    "    print(\"I'm going to show you what's behind one of the doors you didn't pick...\")\n",
    "\n",
    "    #assign a remaining goat door to monty_door. This door is not the car, and not what the player chose.\n",
    "    monty_door = random.choice(goat_doors)\n",
    "    print(\"Door number \" + str(monty_door) + \" has a goat behind it!\")\n",
    "\n",
    "    #Now remove Monty's door and the player's door from the door list, in case the user chooses to switch.\n",
    "    doors.remove(int(initial_door))\n",
    "    doors.remove(monty_door)\n",
    "    switch = input(\"Would you like to switch doors? Y or N?\")\n",
    "\n",
    "    #if yes, make choice the one remaining door. If no, make choice = to initial_door\n",
    "    if switch == \"Y\":\n",
    "        choice = doors[0]\n",
    "    elif switch == \"N\":\n",
    "        choice = initial_door\n",
    "    else:\n",
    "        print(\"Invalid input\")\n",
    "    \n",
    "    #check to see if the user won or lost\n",
    "    if int(choice) == car:\n",
    "        print(\"YOU WIN!\")\n",
    "    else:\n",
    "        print(\"YOU LOSE!\")\n",
    "    \n",
    "monty_hall()"
   ]
  },
  {
   "cell_type": "markdown",
   "id": "c5f910b8",
   "metadata": {},
   "source": [
    "## Monty Hall Simulation\n",
    "This program runs the same game as above but the choices are randomized.\n",
    "The code is set to iterate the game 10,000 times and assess the results. It will output how many times switching, when offered the chance by Monty, proved successful. It will also calculate the win rate of switching, which we expect to be somewhere near 66%."
   ]
  },
  {
   "cell_type": "code",
   "execution_count": 4,
   "id": "236cdd76",
   "metadata": {
    "scrolled": false
   },
   "outputs": [
    {
     "name": "stdout",
     "output_type": "stream",
     "text": [
      "When switching, the simulation won 3288 times and lost 1677 times.\n",
      "This means that the success rate of swtiching was 0.6622356495468278%.\n",
      "\n"
     ]
    }
   ],
   "source": [
    "#The following simulates the same game as above - but it can run the game many times.\n",
    "#Instead of taking user input for each game, an initial door and choice of whether to switch doors are randomized.\n",
    "\n",
    "import random\n",
    "\n",
    "def monty_simulation():\n",
    "    #We need to reference the global variables switch_count & win_count\n",
    "    global switch_win\n",
    "    global switch_lose\n",
    "    global stay_win\n",
    "    global stay_lose\n",
    "    \n",
    "    #doors holds all 3 doors. goat_doors holds the two doors with goats, which Monty will pick from.\n",
    "    doors = [1,2,3]\n",
    "    goat_doors = [1,2,3]\n",
    "\n",
    "    #choose a door to hide the car, and remove that number from goat_doors\n",
    "    car = random.choice(doors)\n",
    "    goat_doors.remove(car)\n",
    "\n",
    "\n",
    "    #random door is chosen as the initial choice\n",
    "    initial_door = random.choice(doors)\n",
    "\n",
    "    #remove chosen door from goat_doors (if not already removed), so that Monty won't reveal what's behind the user's door.\n",
    "    try:\n",
    "        goat_doors.remove(int(initial_door))\n",
    "    except: \n",
    "        pass\n",
    "\n",
    "\n",
    "    #assign a remaining goat door to monty_door. This door is not the car, and not what the player chose.\n",
    "    monty_door = random.choice(goat_doors)\n",
    "\n",
    "    #Now remove Monty's door and the player's door from the door list, in case the user chooses to switch.\n",
    "    doors.remove(int(initial_door))\n",
    "    doors.remove(monty_door)\n",
    "    \n",
    "    #Randomly chooses whether or not to switch.\n",
    "    choices = [\"Y\",\"N\"]\n",
    "    switch = random.choice(choices)\n",
    "\n",
    "    #if yes, make choice the one remaining door. If no, make choice = to initial_door.\n",
    "    #We record how many times we switch with switch_count, for later reference.\n",
    "    if switch == \"Y\":\n",
    "        choice = doors[0]\n",
    "    elif switch == \"N\":\n",
    "        choice = initial_door\n",
    "    else:\n",
    "        print(\"Invalid input\")\n",
    "    \n",
    "    \n",
    "    #check to see what happened. \"stay\" meaning that the player didn't switch when Monty offers.\n",
    "    if switch == \"Y\" and int(choice) == car:\n",
    "        switch_win += 1\n",
    "    elif switch == \"N\" and int(choice) == car:\n",
    "        stay_win += 1\n",
    "    elif switch == \"Y\" and int(choice) != car:\n",
    "        switch_lose += 1\n",
    "    elif switch == \"N\" and int(choice) != car:\n",
    "        stay_lose +=1\n",
    "    \n",
    "\n",
    "#initialize all variables at 0\n",
    "switch_win = 0\n",
    "switch_lose = 0\n",
    "stay_win = 0\n",
    "stay_lose = 0\n",
    "\n",
    "iterate = 10000\n",
    "\n",
    "for i in range(0,iterate):\n",
    "    monty_simulation()\n",
    "\n",
    "print(\"When switching, the simulation won %s times and lost %s times.\" % (switch_win, switch_lose))\n",
    "print(\"This means that the success rate of swtiching was \" + str(switch_win/(switch_win+switch_lose)) + \"%.\")\n",
    "print(\"\")\n"
   ]
  },
  {
   "cell_type": "markdown",
   "id": "1f139e26",
   "metadata": {},
   "source": [
    "## Conclussion\n",
    "Although this may be an unintuitive and frustrating problem to wrap your head around, it's difficult to argue with the outcome of the experiment. Feel free to alter the code and play around with these to try to better understand the Monty Hall problem, or just to have some fun.\n",
    "Thanks for exploring this problem with me.\n",
    "\n",
    "Nicky Zarick"
   ]
  }
 ],
 "metadata": {
  "kernelspec": {
   "display_name": "Python 3 (ipykernel)",
   "language": "python",
   "name": "python3"
  },
  "language_info": {
   "codemirror_mode": {
    "name": "ipython",
    "version": 3
   },
   "file_extension": ".py",
   "mimetype": "text/x-python",
   "name": "python",
   "nbconvert_exporter": "python",
   "pygments_lexer": "ipython3",
   "version": "3.10.0"
  }
 },
 "nbformat": 4,
 "nbformat_minor": 5
}
